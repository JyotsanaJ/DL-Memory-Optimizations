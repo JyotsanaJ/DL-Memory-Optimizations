{
 "cells": [
  {
   "cell_type": "markdown",
   "metadata": {},
   "source": [
    "## Weight-Decomposed Low-Rank Adaptation (DoRA)"
   ]
  },
  {
   "cell_type": "markdown",
   "metadata": {},
   "source": [
    "use_dora (`bool`):\n",
    "\n",
    "* Enable 'Weight-Decomposed Low-Rank Adaptation' (DoRA). \n",
    "* This technique decomposes the updates of the weights\n",
    "into two parts, magnitude and direction. \n",
    "* Direction is handled by normal LoRA, whereas the magnitude is\n",
    "handled by a separate learnable parameter. \n",
    "* This can improve the performance of LoRA especially at low\n",
    "ranks. Right now, DoRA only supports linear and Conv2D layers. \n",
    "* DoRA introduces a bigger overhead than pure\n",
    "LoRA, so it is recommended to merge weights for inference."
   ]
  }
 ],
 "metadata": {
  "language_info": {
   "name": "python"
  }
 },
 "nbformat": 4,
 "nbformat_minor": 2
}
